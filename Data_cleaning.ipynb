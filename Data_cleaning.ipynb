{
  "nbformat": 4,
  "nbformat_minor": 0,
  "metadata": {
    "colab": {
      "name": "Data_cleaning.ipynb",
      "provenance": [],
      "authorship_tag": "ABX9TyO/x316P4uLUISyj4P2eyHT",
      "include_colab_link": true
    },
    "kernelspec": {
      "name": "python3",
      "display_name": "Python 3"
    },
    "language_info": {
      "name": "python"
    }
  },
  "cells": [
    {
      "cell_type": "markdown",
      "metadata": {
        "id": "view-in-github",
        "colab_type": "text"
      },
      "source": [
        "<a href=\"https://colab.research.google.com/github/dajebbar/1.exploratory-data-analysis-MLR/blob/master/Data_cleaning.ipynb\" target=\"_parent\"><img src=\"https://colab.research.google.com/assets/colab-badge.svg\" alt=\"Open In Colab\"/></a>"
      ]
    },
    {
      "cell_type": "markdown",
      "source": [
        "# Identify columns with single value"
      ],
      "metadata": {
        "id": "oDaKZaLpUaTB"
      }
    },
    {
      "cell_type": "code",
      "execution_count": 1,
      "metadata": {
        "id": "V-Vwgu59UGgg"
      },
      "outputs": [],
      "source": [
        "import pandas as pd\n",
        "import numpy as np\n",
        "import seaborn as sns\n",
        "from urllib.request import urlretrieve"
      ]
    },
    {
      "cell_type": "code",
      "source": [
        "url = 'https://raw.githubusercontent.com/jbrownlee/Datasets/master/oil-spill.csv'\n",
        "urlretrieve(url, 'oil.csv')"
      ],
      "metadata": {
        "colab": {
          "base_uri": "https://localhost:8080/"
        },
        "id": "JQ8l_LnNVAm7",
        "outputId": "62047a89-c742-4552-ab1a-fbb535622386"
      },
      "execution_count": 2,
      "outputs": [
        {
          "output_type": "execute_result",
          "data": {
            "text/plain": [
              "('oil.csv', <http.client.HTTPMessage at 0x7fccc0879ad0>)"
            ]
          },
          "metadata": {},
          "execution_count": 2
        }
      ]
    },
    {
      "cell_type": "code",
      "source": [
        "oil_df = pd.read_csv('oil.csv', header=None)\n",
        "oil_df.head()"
      ],
      "metadata": {
        "colab": {
          "base_uri": "https://localhost:8080/",
          "height": 270
        },
        "id": "l7kirJDPVia6",
        "outputId": "1b6b518e-931c-4936-98c4-c4a3732bebfb"
      },
      "execution_count": 3,
      "outputs": [
        {
          "output_type": "execute_result",
          "data": {
            "text/html": [
              "\n",
              "  <div id=\"df-481e4e3b-c394-4985-81dc-3995f2ae6253\">\n",
              "    <div class=\"colab-df-container\">\n",
              "      <div>\n",
              "<style scoped>\n",
              "    .dataframe tbody tr th:only-of-type {\n",
              "        vertical-align: middle;\n",
              "    }\n",
              "\n",
              "    .dataframe tbody tr th {\n",
              "        vertical-align: top;\n",
              "    }\n",
              "\n",
              "    .dataframe thead th {\n",
              "        text-align: right;\n",
              "    }\n",
              "</style>\n",
              "<table border=\"1\" class=\"dataframe\">\n",
              "  <thead>\n",
              "    <tr style=\"text-align: right;\">\n",
              "      <th></th>\n",
              "      <th>0</th>\n",
              "      <th>1</th>\n",
              "      <th>2</th>\n",
              "      <th>3</th>\n",
              "      <th>4</th>\n",
              "      <th>5</th>\n",
              "      <th>6</th>\n",
              "      <th>7</th>\n",
              "      <th>8</th>\n",
              "      <th>9</th>\n",
              "      <th>10</th>\n",
              "      <th>11</th>\n",
              "      <th>12</th>\n",
              "      <th>13</th>\n",
              "      <th>14</th>\n",
              "      <th>15</th>\n",
              "      <th>16</th>\n",
              "      <th>17</th>\n",
              "      <th>18</th>\n",
              "      <th>19</th>\n",
              "      <th>20</th>\n",
              "      <th>21</th>\n",
              "      <th>22</th>\n",
              "      <th>23</th>\n",
              "      <th>24</th>\n",
              "      <th>25</th>\n",
              "      <th>26</th>\n",
              "      <th>27</th>\n",
              "      <th>28</th>\n",
              "      <th>29</th>\n",
              "      <th>30</th>\n",
              "      <th>31</th>\n",
              "      <th>32</th>\n",
              "      <th>33</th>\n",
              "      <th>34</th>\n",
              "      <th>35</th>\n",
              "      <th>36</th>\n",
              "      <th>37</th>\n",
              "      <th>38</th>\n",
              "      <th>39</th>\n",
              "      <th>40</th>\n",
              "      <th>41</th>\n",
              "      <th>42</th>\n",
              "      <th>43</th>\n",
              "      <th>44</th>\n",
              "      <th>45</th>\n",
              "      <th>46</th>\n",
              "      <th>47</th>\n",
              "      <th>48</th>\n",
              "      <th>49</th>\n",
              "    </tr>\n",
              "  </thead>\n",
              "  <tbody>\n",
              "    <tr>\n",
              "      <th>0</th>\n",
              "      <td>1</td>\n",
              "      <td>2558</td>\n",
              "      <td>1506.09</td>\n",
              "      <td>456.63</td>\n",
              "      <td>90</td>\n",
              "      <td>6395000.0</td>\n",
              "      <td>40.88</td>\n",
              "      <td>7.89</td>\n",
              "      <td>29780.0</td>\n",
              "      <td>0.19</td>\n",
              "      <td>214.7</td>\n",
              "      <td>0.21</td>\n",
              "      <td>0.26</td>\n",
              "      <td>0.49</td>\n",
              "      <td>0.10</td>\n",
              "      <td>0.40</td>\n",
              "      <td>99.59</td>\n",
              "      <td>32.19</td>\n",
              "      <td>1.84</td>\n",
              "      <td>0.16</td>\n",
              "      <td>0.20</td>\n",
              "      <td>87.65</td>\n",
              "      <td>0</td>\n",
              "      <td>0.47</td>\n",
              "      <td>132.78</td>\n",
              "      <td>-0.01</td>\n",
              "      <td>3.78</td>\n",
              "      <td>0.22</td>\n",
              "      <td>3.20</td>\n",
              "      <td>-3.71</td>\n",
              "      <td>-0.18</td>\n",
              "      <td>2.19</td>\n",
              "      <td>0.0</td>\n",
              "      <td>2.19</td>\n",
              "      <td>310</td>\n",
              "      <td>16110</td>\n",
              "      <td>0.00</td>\n",
              "      <td>138.68</td>\n",
              "      <td>89</td>\n",
              "      <td>69</td>\n",
              "      <td>2850.00</td>\n",
              "      <td>1000.00</td>\n",
              "      <td>763.16</td>\n",
              "      <td>135.46</td>\n",
              "      <td>3.73</td>\n",
              "      <td>0</td>\n",
              "      <td>33243.19</td>\n",
              "      <td>65.74</td>\n",
              "      <td>7.95</td>\n",
              "      <td>1</td>\n",
              "    </tr>\n",
              "    <tr>\n",
              "      <th>1</th>\n",
              "      <td>2</td>\n",
              "      <td>22325</td>\n",
              "      <td>79.11</td>\n",
              "      <td>841.03</td>\n",
              "      <td>180</td>\n",
              "      <td>55812500.0</td>\n",
              "      <td>51.11</td>\n",
              "      <td>1.21</td>\n",
              "      <td>61900.0</td>\n",
              "      <td>0.02</td>\n",
              "      <td>901.7</td>\n",
              "      <td>0.02</td>\n",
              "      <td>0.03</td>\n",
              "      <td>0.11</td>\n",
              "      <td>0.01</td>\n",
              "      <td>0.11</td>\n",
              "      <td>6058.23</td>\n",
              "      <td>4061.15</td>\n",
              "      <td>2.30</td>\n",
              "      <td>0.02</td>\n",
              "      <td>0.02</td>\n",
              "      <td>87.65</td>\n",
              "      <td>0</td>\n",
              "      <td>0.58</td>\n",
              "      <td>132.78</td>\n",
              "      <td>-0.01</td>\n",
              "      <td>3.78</td>\n",
              "      <td>0.84</td>\n",
              "      <td>7.09</td>\n",
              "      <td>-2.21</td>\n",
              "      <td>0.00</td>\n",
              "      <td>0.00</td>\n",
              "      <td>0.0</td>\n",
              "      <td>0.00</td>\n",
              "      <td>704</td>\n",
              "      <td>40140</td>\n",
              "      <td>0.00</td>\n",
              "      <td>68.65</td>\n",
              "      <td>89</td>\n",
              "      <td>69</td>\n",
              "      <td>5750.00</td>\n",
              "      <td>11500.00</td>\n",
              "      <td>9593.48</td>\n",
              "      <td>1648.80</td>\n",
              "      <td>0.60</td>\n",
              "      <td>0</td>\n",
              "      <td>51572.04</td>\n",
              "      <td>65.73</td>\n",
              "      <td>6.26</td>\n",
              "      <td>0</td>\n",
              "    </tr>\n",
              "    <tr>\n",
              "      <th>2</th>\n",
              "      <td>3</td>\n",
              "      <td>115</td>\n",
              "      <td>1449.85</td>\n",
              "      <td>608.43</td>\n",
              "      <td>88</td>\n",
              "      <td>287500.0</td>\n",
              "      <td>40.42</td>\n",
              "      <td>7.34</td>\n",
              "      <td>3340.0</td>\n",
              "      <td>0.18</td>\n",
              "      <td>86.1</td>\n",
              "      <td>0.21</td>\n",
              "      <td>0.32</td>\n",
              "      <td>0.50</td>\n",
              "      <td>0.17</td>\n",
              "      <td>0.34</td>\n",
              "      <td>71.20</td>\n",
              "      <td>16.73</td>\n",
              "      <td>1.82</td>\n",
              "      <td>0.19</td>\n",
              "      <td>0.29</td>\n",
              "      <td>87.65</td>\n",
              "      <td>0</td>\n",
              "      <td>0.46</td>\n",
              "      <td>132.78</td>\n",
              "      <td>-0.01</td>\n",
              "      <td>3.78</td>\n",
              "      <td>0.70</td>\n",
              "      <td>4.79</td>\n",
              "      <td>-3.36</td>\n",
              "      <td>-0.23</td>\n",
              "      <td>1.95</td>\n",
              "      <td>0.0</td>\n",
              "      <td>1.95</td>\n",
              "      <td>29</td>\n",
              "      <td>1530</td>\n",
              "      <td>0.01</td>\n",
              "      <td>38.80</td>\n",
              "      <td>89</td>\n",
              "      <td>69</td>\n",
              "      <td>1400.00</td>\n",
              "      <td>250.00</td>\n",
              "      <td>150.00</td>\n",
              "      <td>45.13</td>\n",
              "      <td>9.33</td>\n",
              "      <td>1</td>\n",
              "      <td>31692.84</td>\n",
              "      <td>65.81</td>\n",
              "      <td>7.84</td>\n",
              "      <td>1</td>\n",
              "    </tr>\n",
              "    <tr>\n",
              "      <th>3</th>\n",
              "      <td>4</td>\n",
              "      <td>1201</td>\n",
              "      <td>1562.53</td>\n",
              "      <td>295.65</td>\n",
              "      <td>66</td>\n",
              "      <td>3002500.0</td>\n",
              "      <td>42.40</td>\n",
              "      <td>7.97</td>\n",
              "      <td>18030.0</td>\n",
              "      <td>0.19</td>\n",
              "      <td>166.5</td>\n",
              "      <td>0.21</td>\n",
              "      <td>0.26</td>\n",
              "      <td>0.48</td>\n",
              "      <td>0.10</td>\n",
              "      <td>0.38</td>\n",
              "      <td>120.22</td>\n",
              "      <td>33.47</td>\n",
              "      <td>1.91</td>\n",
              "      <td>0.16</td>\n",
              "      <td>0.21</td>\n",
              "      <td>87.65</td>\n",
              "      <td>0</td>\n",
              "      <td>0.48</td>\n",
              "      <td>132.78</td>\n",
              "      <td>-0.01</td>\n",
              "      <td>3.78</td>\n",
              "      <td>0.84</td>\n",
              "      <td>6.78</td>\n",
              "      <td>-3.54</td>\n",
              "      <td>-0.33</td>\n",
              "      <td>2.20</td>\n",
              "      <td>0.0</td>\n",
              "      <td>2.20</td>\n",
              "      <td>183</td>\n",
              "      <td>10080</td>\n",
              "      <td>0.00</td>\n",
              "      <td>108.27</td>\n",
              "      <td>89</td>\n",
              "      <td>69</td>\n",
              "      <td>6041.52</td>\n",
              "      <td>761.58</td>\n",
              "      <td>453.21</td>\n",
              "      <td>144.97</td>\n",
              "      <td>13.33</td>\n",
              "      <td>1</td>\n",
              "      <td>37696.21</td>\n",
              "      <td>65.67</td>\n",
              "      <td>8.07</td>\n",
              "      <td>1</td>\n",
              "    </tr>\n",
              "    <tr>\n",
              "      <th>4</th>\n",
              "      <td>5</td>\n",
              "      <td>312</td>\n",
              "      <td>950.27</td>\n",
              "      <td>440.86</td>\n",
              "      <td>37</td>\n",
              "      <td>780000.0</td>\n",
              "      <td>41.43</td>\n",
              "      <td>7.03</td>\n",
              "      <td>3350.0</td>\n",
              "      <td>0.17</td>\n",
              "      <td>232.8</td>\n",
              "      <td>0.15</td>\n",
              "      <td>0.19</td>\n",
              "      <td>0.35</td>\n",
              "      <td>0.09</td>\n",
              "      <td>0.26</td>\n",
              "      <td>289.19</td>\n",
              "      <td>48.68</td>\n",
              "      <td>1.86</td>\n",
              "      <td>0.13</td>\n",
              "      <td>0.16</td>\n",
              "      <td>87.65</td>\n",
              "      <td>0</td>\n",
              "      <td>0.47</td>\n",
              "      <td>132.78</td>\n",
              "      <td>-0.01</td>\n",
              "      <td>3.78</td>\n",
              "      <td>0.02</td>\n",
              "      <td>2.28</td>\n",
              "      <td>-3.44</td>\n",
              "      <td>-0.44</td>\n",
              "      <td>2.19</td>\n",
              "      <td>0.0</td>\n",
              "      <td>2.19</td>\n",
              "      <td>45</td>\n",
              "      <td>2340</td>\n",
              "      <td>0.00</td>\n",
              "      <td>14.39</td>\n",
              "      <td>89</td>\n",
              "      <td>69</td>\n",
              "      <td>1320.04</td>\n",
              "      <td>710.63</td>\n",
              "      <td>512.54</td>\n",
              "      <td>109.16</td>\n",
              "      <td>2.58</td>\n",
              "      <td>0</td>\n",
              "      <td>29038.17</td>\n",
              "      <td>65.66</td>\n",
              "      <td>7.35</td>\n",
              "      <td>0</td>\n",
              "    </tr>\n",
              "  </tbody>\n",
              "</table>\n",
              "</div>\n",
              "      <button class=\"colab-df-convert\" onclick=\"convertToInteractive('df-481e4e3b-c394-4985-81dc-3995f2ae6253')\"\n",
              "              title=\"Convert this dataframe to an interactive table.\"\n",
              "              style=\"display:none;\">\n",
              "        \n",
              "  <svg xmlns=\"http://www.w3.org/2000/svg\" height=\"24px\"viewBox=\"0 0 24 24\"\n",
              "       width=\"24px\">\n",
              "    <path d=\"M0 0h24v24H0V0z\" fill=\"none\"/>\n",
              "    <path d=\"M18.56 5.44l.94 2.06.94-2.06 2.06-.94-2.06-.94-.94-2.06-.94 2.06-2.06.94zm-11 1L8.5 8.5l.94-2.06 2.06-.94-2.06-.94L8.5 2.5l-.94 2.06-2.06.94zm10 10l.94 2.06.94-2.06 2.06-.94-2.06-.94-.94-2.06-.94 2.06-2.06.94z\"/><path d=\"M17.41 7.96l-1.37-1.37c-.4-.4-.92-.59-1.43-.59-.52 0-1.04.2-1.43.59L10.3 9.45l-7.72 7.72c-.78.78-.78 2.05 0 2.83L4 21.41c.39.39.9.59 1.41.59.51 0 1.02-.2 1.41-.59l7.78-7.78 2.81-2.81c.8-.78.8-2.07 0-2.86zM5.41 20L4 18.59l7.72-7.72 1.47 1.35L5.41 20z\"/>\n",
              "  </svg>\n",
              "      </button>\n",
              "      \n",
              "  <style>\n",
              "    .colab-df-container {\n",
              "      display:flex;\n",
              "      flex-wrap:wrap;\n",
              "      gap: 12px;\n",
              "    }\n",
              "\n",
              "    .colab-df-convert {\n",
              "      background-color: #E8F0FE;\n",
              "      border: none;\n",
              "      border-radius: 50%;\n",
              "      cursor: pointer;\n",
              "      display: none;\n",
              "      fill: #1967D2;\n",
              "      height: 32px;\n",
              "      padding: 0 0 0 0;\n",
              "      width: 32px;\n",
              "    }\n",
              "\n",
              "    .colab-df-convert:hover {\n",
              "      background-color: #E2EBFA;\n",
              "      box-shadow: 0px 1px 2px rgba(60, 64, 67, 0.3), 0px 1px 3px 1px rgba(60, 64, 67, 0.15);\n",
              "      fill: #174EA6;\n",
              "    }\n",
              "\n",
              "    [theme=dark] .colab-df-convert {\n",
              "      background-color: #3B4455;\n",
              "      fill: #D2E3FC;\n",
              "    }\n",
              "\n",
              "    [theme=dark] .colab-df-convert:hover {\n",
              "      background-color: #434B5C;\n",
              "      box-shadow: 0px 1px 3px 1px rgba(0, 0, 0, 0.15);\n",
              "      filter: drop-shadow(0px 1px 2px rgba(0, 0, 0, 0.3));\n",
              "      fill: #FFFFFF;\n",
              "    }\n",
              "  </style>\n",
              "\n",
              "      <script>\n",
              "        const buttonEl =\n",
              "          document.querySelector('#df-481e4e3b-c394-4985-81dc-3995f2ae6253 button.colab-df-convert');\n",
              "        buttonEl.style.display =\n",
              "          google.colab.kernel.accessAllowed ? 'block' : 'none';\n",
              "\n",
              "        async function convertToInteractive(key) {\n",
              "          const element = document.querySelector('#df-481e4e3b-c394-4985-81dc-3995f2ae6253');\n",
              "          const dataTable =\n",
              "            await google.colab.kernel.invokeFunction('convertToInteractive',\n",
              "                                                     [key], {});\n",
              "          if (!dataTable) return;\n",
              "\n",
              "          const docLinkHtml = 'Like what you see? Visit the ' +\n",
              "            '<a target=\"_blank\" href=https://colab.research.google.com/notebooks/data_table.ipynb>data table notebook</a>'\n",
              "            + ' to learn more about interactive tables.';\n",
              "          element.innerHTML = '';\n",
              "          dataTable['output_type'] = 'display_data';\n",
              "          await google.colab.output.renderOutput(dataTable, element);\n",
              "          const docLink = document.createElement('div');\n",
              "          docLink.innerHTML = docLinkHtml;\n",
              "          element.appendChild(docLink);\n",
              "        }\n",
              "      </script>\n",
              "    </div>\n",
              "  </div>\n",
              "  "
            ],
            "text/plain": [
              "   0      1        2       3    4   ...  45        46     47    48  49\n",
              "0   1   2558  1506.09  456.63   90  ...   0  33243.19  65.74  7.95   1\n",
              "1   2  22325    79.11  841.03  180  ...   0  51572.04  65.73  6.26   0\n",
              "2   3    115  1449.85  608.43   88  ...   1  31692.84  65.81  7.84   1\n",
              "3   4   1201  1562.53  295.65   66  ...   1  37696.21  65.67  8.07   1\n",
              "4   5    312   950.27  440.86   37  ...   0  29038.17  65.66  7.35   0\n",
              "\n",
              "[5 rows x 50 columns]"
            ]
          },
          "metadata": {},
          "execution_count": 3
        }
      ]
    },
    {
      "cell_type": "code",
      "source": [
        "oil_df.shape"
      ],
      "metadata": {
        "colab": {
          "base_uri": "https://localhost:8080/"
        },
        "id": "M3-pDzryWE7D",
        "outputId": "41689cd2-220d-4a11-90da-d6561cc5b91a"
      },
      "execution_count": 4,
      "outputs": [
        {
          "output_type": "execute_result",
          "data": {
            "text/plain": [
              "(937, 50)"
            ]
          },
          "metadata": {},
          "execution_count": 4
        }
      ]
    },
    {
      "cell_type": "code",
      "source": [
        "oil_df.nunique()"
      ],
      "metadata": {
        "colab": {
          "base_uri": "https://localhost:8080/"
        },
        "id": "K93jrBgiZrGj",
        "outputId": "b9b08a7e-14c5-4244-ce98-a0ae75497b0d"
      },
      "execution_count": 5,
      "outputs": [
        {
          "output_type": "execute_result",
          "data": {
            "text/plain": [
              "0     238\n",
              "1     297\n",
              "2     927\n",
              "3     933\n",
              "4     179\n",
              "5     375\n",
              "6     820\n",
              "7     618\n",
              "8     561\n",
              "9      57\n",
              "10    577\n",
              "11     59\n",
              "12     73\n",
              "13    107\n",
              "14     53\n",
              "15     91\n",
              "16    893\n",
              "17    810\n",
              "18    170\n",
              "19     53\n",
              "20     68\n",
              "21      9\n",
              "22      1\n",
              "23     92\n",
              "24      9\n",
              "25      8\n",
              "26      9\n",
              "27    308\n",
              "28    447\n",
              "29    392\n",
              "30    107\n",
              "31     42\n",
              "32      4\n",
              "33     45\n",
              "34    141\n",
              "35    110\n",
              "36      3\n",
              "37    758\n",
              "38      9\n",
              "39      9\n",
              "40    388\n",
              "41    220\n",
              "42    644\n",
              "43    649\n",
              "44    499\n",
              "45      2\n",
              "46    937\n",
              "47    169\n",
              "48    286\n",
              "49      2\n",
              "dtype: int64"
            ]
          },
          "metadata": {},
          "execution_count": 5
        }
      ]
    },
    {
      "cell_type": "markdown",
      "source": [
        "## Drop columns that contains one single value"
      ],
      "metadata": {
        "id": "WlTxqjIFdBb4"
      }
    },
    {
      "cell_type": "code",
      "source": [
        "counts = oil_df.nunique()\n",
        "cols_to_del = [i for i, x in enumerate(counts) if x == 1]\n",
        "print(cols_to_del)"
      ],
      "metadata": {
        "colab": {
          "base_uri": "https://localhost:8080/"
        },
        "id": "lquYIEXiZu_T",
        "outputId": "f64f9153-8f4c-42a7-a516-0b5c41d852e9"
      },
      "execution_count": 6,
      "outputs": [
        {
          "output_type": "stream",
          "name": "stdout",
          "text": [
            "[22]\n"
          ]
        }
      ]
    },
    {
      "cell_type": "code",
      "source": [
        "oil_df.drop(columns=cols_to_del, axis=1, inplace=True)\n",
        "oil_df.shape"
      ],
      "metadata": {
        "colab": {
          "base_uri": "https://localhost:8080/"
        },
        "id": "IYnGMlvHaI6V",
        "outputId": "bbff241a-7c23-4e19-bfc5-75cf0c46cc6e"
      },
      "execution_count": 7,
      "outputs": [
        {
          "output_type": "execute_result",
          "data": {
            "text/plain": [
              "(937, 49)"
            ]
          },
          "metadata": {},
          "execution_count": 7
        }
      ]
    },
    {
      "cell_type": "markdown",
      "source": [
        "## Identify and drop columns with fiew values < 1%"
      ],
      "metadata": {
        "id": "29jTNalPdZYv"
      }
    },
    {
      "cell_type": "code",
      "source": [
        "oil_df.value_counts(normalize=True, dropna=False)"
      ],
      "metadata": {
        "colab": {
          "base_uri": "https://localhost:8080/"
        },
        "id": "GEG0uzbodVzI",
        "outputId": "15c34abb-fc6f-48c4-fc0b-e2ad8e0d51d6"
      },
      "execution_count": 8,
      "outputs": [
        {
          "output_type": "execute_result",
          "data": {
            "text/plain": [
              "0    1    2        3        4    5         6      7      8       9     10     11    12    13    14    15    16       17      18    19    20    21      23    24       25     26     27     28    29     30     31    32   33    34  35    36    37     38   39  40       41      42      43      44    45  46        47     48     49\n",
              "1    109  441.43   303.14   18   882900.0  52.11  16.85  7067.0  0.32  124.9  0.34  0.38  0.62  0.24  0.37  11.66    7.28    0.78  0.34  0.40  69.09   0.75  239.69    0.18  3.83    0.73  3.21  -3.38  -0.41  1.22  0.0  1.22  53  2790  0.00  56.57  102  73  2534.42  853.81  291.60  220.85  8.69  0   27407.50  65.90  7.55   1     0.001067\n",
              "101  110  1586.95  942.99   1    275000.0  34.49  8.56   3400.0  0.25  80.9   0.24  0.30  0.50  0.17  0.33  55.45    14.29   1.99  0.21  0.29  75.26   0.46  351.67    0.18  9.24    0.93  4.54  -2.82  -0.62  2.17  0.0  2.17  47  2610  0.01  42.04  78   55  1150.00  350.00  191.30  93.73   6.01  0   7555.21   66.01  7.97   0     0.001067\n",
              "97   184  951.92   859.54   81   460000.0  39.26  7.63   4010.0  0.19  114.7  0.20  0.27  0.49  0.12  0.37  68.60    27.04   0.90  0.17  0.23  85.22   0.46  422.12    1.01  12.06   0.48  3.15  -2.81  -0.23  1.95  0.0  1.95  51  2880  0.01  34.96  85   63  1216.55  509.90  303.52  134.57  4.01  0   3295.42   65.86  7.21   0     0.001067\n",
              "98   25   4.72     447.24   65   202500.0  57.80  15.55  1768.0  0.27  114.5  0.25  0.35  0.97  0.18  0.79  34.85    16.99   0.39  0.25  0.34  55.85   1.03  221.97    0.87  5.07    0.04  4.19  -0.51  -0.26  1.09  0.0  1.09  12  810   0.00  15.44  82   50  886.40   284.60  131.62  94.13   6.73  0   2593.15   65.92  6.03   0     0.001067\n",
              "     58   1419.69  862.72   90   145000.0  40.45  6.24   1650.0  0.15  87.9   0.19  0.26  0.37  0.13  0.24  63.39    22.44   0.92  0.17  0.24  85.22   0.47  422.12    1.01  12.06  -0.44  2.89  -2.40  -0.25  1.95  0.0  1.95  15  900   0.01  18.78  85   63  550.00   250.00  181.82  51.35   3.03  0   5733.29   65.92  7.73   0     0.001067\n",
              "                                                                                                                                                                                                                                                                                                                                           ...   \n",
              "42   70   1421.13  1095.74  67   175000.0  39.14  9.04   2510.0  0.23  69.7   0.25  0.35  0.76  0.19  0.58  27.63    11.53   0.89  0.25  0.34  85.22   0.46  422.12    1.01  12.06  -0.12  4.92  -2.53  -0.31  1.94  0.0  1.94  25  1440  0.01  36.00  85   63  715.89   269.26  183.44  55.94   3.90  0   6038.61   66.03  7.65   0     0.001067\n",
              "     98   1636.26  1602.01  19   245000.0  36.64  10.16  2870.0  0.28  85.4   0.28  0.38  0.74  0.20  0.54  50.36    10.69   2.12  0.26  0.36  75.26   0.49  351.67    0.18  9.24   -0.09  4.08  -2.93  -0.73  2.16  0.0  2.16  19  1260  0.01  33.62  78   55  886.00   474.34  261.71  131.24  3.39  0   3521.39   66.34  7.80   0     0.001067\n",
              "     231  484.66   1779.41  164  324843.0  25.23  6.38   2694.5  0.25  120.6  0.28  0.41  0.74  0.21  0.53  23.12    14.55   0.68  0.23  0.30  123.47  0.20  2036.80  -0.71  2.96    0.70  3.99  -5.67  -1.02  2.91  0.0  2.91  46  2520  0.01  22.35  143  86  0.00     0.00    0.00    0.00    0.00  0   8276.37   36.36  14.82  0     0.001067\n",
              "43   14   445.21   654.64   21   113400.0  82.64  21.51  868.0   0.26  130.6  0.24  0.23  0.25  0.19  0.06  17.18    19.40   1.24  0.25  0.23  69.09   1.20  239.69    0.18  3.83    1.08  3.05  -2.41  -0.48  1.22  0.0  1.22  7   360   0.00  6.64   102  73  284.60   284.60  184.87  97.39   1.54  0   22431.39  66.37  7.22   0     0.001067\n",
              "352  53   491.81   191.89   59   132500.0  37.68  1.21   1450.0  0.03  91.4   0.04  0.04  0.06  0.02  0.03  2253.13  915.18  0.68  0.03  0.04  67.87   0.56  421.21    1.83  14.78   0.30  2.98  -1.49  -0.63  1.97  0.0  1.97  16  990   0.01  15.87  64   39  447.21   335.41  211.22  102.19  2.12  0   19816.40  65.49  6.93   0     0.001067\n",
              "Length: 937, dtype: float64"
            ]
          },
          "metadata": {},
          "execution_count": 8
        }
      ]
    },
    {
      "cell_type": "code",
      "source": [
        "counts = oil_df.nunique()\n",
        "col_less_than_1 = [ i for i, x in enumerate(counts) if (\n",
        "    float(x)/oil_df.shape[0]*100) < 1]\n",
        "\n",
        "col_less_than_1"
      ],
      "metadata": {
        "colab": {
          "base_uri": "https://localhost:8080/"
        },
        "id": "835RqY1udzX_",
        "outputId": "1579c4fb-c2d6-4629-8811-a8ff91bb1c40"
      },
      "execution_count": 9,
      "outputs": [
        {
          "output_type": "execute_result",
          "data": {
            "text/plain": [
              "[21, 23, 24, 25, 31, 35, 37, 38, 44, 48]"
            ]
          },
          "metadata": {},
          "execution_count": 9
        }
      ]
    },
    {
      "cell_type": "code",
      "source": [
        "oil_df.drop(columns=col_less_than_1, inplace=True)"
      ],
      "metadata": {
        "id": "EJOZ-G0Dfm62"
      },
      "execution_count": 10,
      "outputs": []
    },
    {
      "cell_type": "code",
      "source": [
        "oil_df.shape"
      ],
      "metadata": {
        "colab": {
          "base_uri": "https://localhost:8080/"
        },
        "id": "NFSrHiQpgOjk",
        "outputId": "09edc0cc-6d5b-43ee-9763-496f39e462ca"
      },
      "execution_count": 11,
      "outputs": [
        {
          "output_type": "execute_result",
          "data": {
            "text/plain": [
              "(937, 39)"
            ]
          },
          "metadata": {},
          "execution_count": 11
        }
      ]
    },
    {
      "cell_type": "markdown",
      "source": [
        "## Columns with low **variance**"
      ],
      "metadata": {
        "id": "M0AuI8cBg-bK"
      }
    },
    {
      "cell_type": "code",
      "source": [
        "from sklearn.feature_selection import VarianceThreshold\n",
        "\n",
        "oil_df = pd.read_csv('oil.csv', header=None)\n",
        "\n",
        "# split data into outputs and inputs\n",
        "\n",
        "# data = oil_df.to_numpy()\n",
        "# X = data[:, :-1]\n",
        "# y = data[:, -1]\n",
        "\n",
        "X = oil_df.iloc[:, :-1]\n",
        "y = oil_df.iloc[:, -1]\n",
        "print(X.shape, y.shape)\n",
        "\n",
        "# define the transform\n",
        "transform = VarianceThreshold()\n",
        "\n",
        "# transform the input data\n",
        "X_sel = transform.fit_transform(X)\n",
        "print(X_sel.shape)"
      ],
      "metadata": {
        "colab": {
          "base_uri": "https://localhost:8080/"
        },
        "id": "DitVzjCsgivV",
        "outputId": "9d8ee7cb-c82c-46bc-85a6-5d7953b7b4d7"
      },
      "execution_count": 12,
      "outputs": [
        {
          "output_type": "stream",
          "name": "stdout",
          "text": [
            "(937, 49) (937,)\n",
            "(937, 48)\n"
          ]
        }
      ]
    },
    {
      "cell_type": "markdown",
      "source": [
        "---\n",
        "# Duplicates Data"
      ],
      "metadata": {
        "id": "jJeZ5bV9x8G-"
      }
    },
    {
      "cell_type": "code",
      "source": [
        "url = (\n",
        "    'https://gist.githubusercontent.com/curran/a08a1080b88344b0c8a7/raw/0e7a9b'\n",
        "      '0a5d22642a06d3d5b9bcbad9890c8ee534/iris.csv')\n",
        "urlretrieve(url, 'iris.csv')"
      ],
      "metadata": {
        "id": "DW5ytUX5jcs3",
        "colab": {
          "base_uri": "https://localhost:8080/"
        },
        "outputId": "b8132a72-3794-4139-971c-ad3fff114ff5"
      },
      "execution_count": 13,
      "outputs": [
        {
          "output_type": "execute_result",
          "data": {
            "text/plain": [
              "('iris.csv', <http.client.HTTPMessage at 0x7fccc0329a10>)"
            ]
          },
          "metadata": {},
          "execution_count": 13
        }
      ]
    },
    {
      "cell_type": "code",
      "source": [
        "iris = pd.read_csv('iris.csv')\n",
        "iris.head()"
      ],
      "metadata": {
        "colab": {
          "base_uri": "https://localhost:8080/",
          "height": 206
        },
        "id": "1raGtRqdyWFz",
        "outputId": "cd188876-c509-4a10-89af-630aa0b556b7"
      },
      "execution_count": 14,
      "outputs": [
        {
          "output_type": "execute_result",
          "data": {
            "text/html": [
              "\n",
              "  <div id=\"df-cee31bb9-a4e3-4d8b-a45e-de2dc86f8b31\">\n",
              "    <div class=\"colab-df-container\">\n",
              "      <div>\n",
              "<style scoped>\n",
              "    .dataframe tbody tr th:only-of-type {\n",
              "        vertical-align: middle;\n",
              "    }\n",
              "\n",
              "    .dataframe tbody tr th {\n",
              "        vertical-align: top;\n",
              "    }\n",
              "\n",
              "    .dataframe thead th {\n",
              "        text-align: right;\n",
              "    }\n",
              "</style>\n",
              "<table border=\"1\" class=\"dataframe\">\n",
              "  <thead>\n",
              "    <tr style=\"text-align: right;\">\n",
              "      <th></th>\n",
              "      <th>sepal_length</th>\n",
              "      <th>sepal_width</th>\n",
              "      <th>petal_length</th>\n",
              "      <th>petal_width</th>\n",
              "      <th>species</th>\n",
              "    </tr>\n",
              "  </thead>\n",
              "  <tbody>\n",
              "    <tr>\n",
              "      <th>0</th>\n",
              "      <td>5.1</td>\n",
              "      <td>3.5</td>\n",
              "      <td>1.4</td>\n",
              "      <td>0.2</td>\n",
              "      <td>setosa</td>\n",
              "    </tr>\n",
              "    <tr>\n",
              "      <th>1</th>\n",
              "      <td>4.9</td>\n",
              "      <td>3.0</td>\n",
              "      <td>1.4</td>\n",
              "      <td>0.2</td>\n",
              "      <td>setosa</td>\n",
              "    </tr>\n",
              "    <tr>\n",
              "      <th>2</th>\n",
              "      <td>4.7</td>\n",
              "      <td>3.2</td>\n",
              "      <td>1.3</td>\n",
              "      <td>0.2</td>\n",
              "      <td>setosa</td>\n",
              "    </tr>\n",
              "    <tr>\n",
              "      <th>3</th>\n",
              "      <td>4.6</td>\n",
              "      <td>3.1</td>\n",
              "      <td>1.5</td>\n",
              "      <td>0.2</td>\n",
              "      <td>setosa</td>\n",
              "    </tr>\n",
              "    <tr>\n",
              "      <th>4</th>\n",
              "      <td>5.0</td>\n",
              "      <td>3.6</td>\n",
              "      <td>1.4</td>\n",
              "      <td>0.2</td>\n",
              "      <td>setosa</td>\n",
              "    </tr>\n",
              "  </tbody>\n",
              "</table>\n",
              "</div>\n",
              "      <button class=\"colab-df-convert\" onclick=\"convertToInteractive('df-cee31bb9-a4e3-4d8b-a45e-de2dc86f8b31')\"\n",
              "              title=\"Convert this dataframe to an interactive table.\"\n",
              "              style=\"display:none;\">\n",
              "        \n",
              "  <svg xmlns=\"http://www.w3.org/2000/svg\" height=\"24px\"viewBox=\"0 0 24 24\"\n",
              "       width=\"24px\">\n",
              "    <path d=\"M0 0h24v24H0V0z\" fill=\"none\"/>\n",
              "    <path d=\"M18.56 5.44l.94 2.06.94-2.06 2.06-.94-2.06-.94-.94-2.06-.94 2.06-2.06.94zm-11 1L8.5 8.5l.94-2.06 2.06-.94-2.06-.94L8.5 2.5l-.94 2.06-2.06.94zm10 10l.94 2.06.94-2.06 2.06-.94-2.06-.94-.94-2.06-.94 2.06-2.06.94z\"/><path d=\"M17.41 7.96l-1.37-1.37c-.4-.4-.92-.59-1.43-.59-.52 0-1.04.2-1.43.59L10.3 9.45l-7.72 7.72c-.78.78-.78 2.05 0 2.83L4 21.41c.39.39.9.59 1.41.59.51 0 1.02-.2 1.41-.59l7.78-7.78 2.81-2.81c.8-.78.8-2.07 0-2.86zM5.41 20L4 18.59l7.72-7.72 1.47 1.35L5.41 20z\"/>\n",
              "  </svg>\n",
              "      </button>\n",
              "      \n",
              "  <style>\n",
              "    .colab-df-container {\n",
              "      display:flex;\n",
              "      flex-wrap:wrap;\n",
              "      gap: 12px;\n",
              "    }\n",
              "\n",
              "    .colab-df-convert {\n",
              "      background-color: #E8F0FE;\n",
              "      border: none;\n",
              "      border-radius: 50%;\n",
              "      cursor: pointer;\n",
              "      display: none;\n",
              "      fill: #1967D2;\n",
              "      height: 32px;\n",
              "      padding: 0 0 0 0;\n",
              "      width: 32px;\n",
              "    }\n",
              "\n",
              "    .colab-df-convert:hover {\n",
              "      background-color: #E2EBFA;\n",
              "      box-shadow: 0px 1px 2px rgba(60, 64, 67, 0.3), 0px 1px 3px 1px rgba(60, 64, 67, 0.15);\n",
              "      fill: #174EA6;\n",
              "    }\n",
              "\n",
              "    [theme=dark] .colab-df-convert {\n",
              "      background-color: #3B4455;\n",
              "      fill: #D2E3FC;\n",
              "    }\n",
              "\n",
              "    [theme=dark] .colab-df-convert:hover {\n",
              "      background-color: #434B5C;\n",
              "      box-shadow: 0px 1px 3px 1px rgba(0, 0, 0, 0.15);\n",
              "      filter: drop-shadow(0px 1px 2px rgba(0, 0, 0, 0.3));\n",
              "      fill: #FFFFFF;\n",
              "    }\n",
              "  </style>\n",
              "\n",
              "      <script>\n",
              "        const buttonEl =\n",
              "          document.querySelector('#df-cee31bb9-a4e3-4d8b-a45e-de2dc86f8b31 button.colab-df-convert');\n",
              "        buttonEl.style.display =\n",
              "          google.colab.kernel.accessAllowed ? 'block' : 'none';\n",
              "\n",
              "        async function convertToInteractive(key) {\n",
              "          const element = document.querySelector('#df-cee31bb9-a4e3-4d8b-a45e-de2dc86f8b31');\n",
              "          const dataTable =\n",
              "            await google.colab.kernel.invokeFunction('convertToInteractive',\n",
              "                                                     [key], {});\n",
              "          if (!dataTable) return;\n",
              "\n",
              "          const docLinkHtml = 'Like what you see? Visit the ' +\n",
              "            '<a target=\"_blank\" href=https://colab.research.google.com/notebooks/data_table.ipynb>data table notebook</a>'\n",
              "            + ' to learn more about interactive tables.';\n",
              "          element.innerHTML = '';\n",
              "          dataTable['output_type'] = 'display_data';\n",
              "          await google.colab.output.renderOutput(dataTable, element);\n",
              "          const docLink = document.createElement('div');\n",
              "          docLink.innerHTML = docLinkHtml;\n",
              "          element.appendChild(docLink);\n",
              "        }\n",
              "      </script>\n",
              "    </div>\n",
              "  </div>\n",
              "  "
            ],
            "text/plain": [
              "   sepal_length  sepal_width  petal_length  petal_width species\n",
              "0           5.1          3.5           1.4          0.2  setosa\n",
              "1           4.9          3.0           1.4          0.2  setosa\n",
              "2           4.7          3.2           1.3          0.2  setosa\n",
              "3           4.6          3.1           1.5          0.2  setosa\n",
              "4           5.0          3.6           1.4          0.2  setosa"
            ]
          },
          "metadata": {},
          "execution_count": 14
        }
      ]
    },
    {
      "cell_type": "markdown",
      "source": [
        "## Calculate duplicates"
      ],
      "metadata": {
        "id": "HCqsyfe8yk9f"
      }
    },
    {
      "cell_type": "code",
      "source": [
        "dups = iris.duplicated()\n",
        "# report if there are any duplicates\n",
        "print(dups.any())\n",
        "\n",
        "# list all duplicates raw\n",
        "iris[dups]"
      ],
      "metadata": {
        "colab": {
          "base_uri": "https://localhost:8080/",
          "height": 162
        },
        "id": "HARXrULOybTi",
        "outputId": "9720c461-0c65-4327-ab83-f841dcebcdc7"
      },
      "execution_count": 15,
      "outputs": [
        {
          "output_type": "stream",
          "name": "stdout",
          "text": [
            "True\n"
          ]
        },
        {
          "output_type": "execute_result",
          "data": {
            "text/html": [
              "\n",
              "  <div id=\"df-b8b737b7-680a-4e68-8ac0-fd5c64ff1b6f\">\n",
              "    <div class=\"colab-df-container\">\n",
              "      <div>\n",
              "<style scoped>\n",
              "    .dataframe tbody tr th:only-of-type {\n",
              "        vertical-align: middle;\n",
              "    }\n",
              "\n",
              "    .dataframe tbody tr th {\n",
              "        vertical-align: top;\n",
              "    }\n",
              "\n",
              "    .dataframe thead th {\n",
              "        text-align: right;\n",
              "    }\n",
              "</style>\n",
              "<table border=\"1\" class=\"dataframe\">\n",
              "  <thead>\n",
              "    <tr style=\"text-align: right;\">\n",
              "      <th></th>\n",
              "      <th>sepal_length</th>\n",
              "      <th>sepal_width</th>\n",
              "      <th>petal_length</th>\n",
              "      <th>petal_width</th>\n",
              "      <th>species</th>\n",
              "    </tr>\n",
              "  </thead>\n",
              "  <tbody>\n",
              "    <tr>\n",
              "      <th>34</th>\n",
              "      <td>4.9</td>\n",
              "      <td>3.1</td>\n",
              "      <td>1.5</td>\n",
              "      <td>0.1</td>\n",
              "      <td>setosa</td>\n",
              "    </tr>\n",
              "    <tr>\n",
              "      <th>37</th>\n",
              "      <td>4.9</td>\n",
              "      <td>3.1</td>\n",
              "      <td>1.5</td>\n",
              "      <td>0.1</td>\n",
              "      <td>setosa</td>\n",
              "    </tr>\n",
              "    <tr>\n",
              "      <th>142</th>\n",
              "      <td>5.8</td>\n",
              "      <td>2.7</td>\n",
              "      <td>5.1</td>\n",
              "      <td>1.9</td>\n",
              "      <td>virginica</td>\n",
              "    </tr>\n",
              "  </tbody>\n",
              "</table>\n",
              "</div>\n",
              "      <button class=\"colab-df-convert\" onclick=\"convertToInteractive('df-b8b737b7-680a-4e68-8ac0-fd5c64ff1b6f')\"\n",
              "              title=\"Convert this dataframe to an interactive table.\"\n",
              "              style=\"display:none;\">\n",
              "        \n",
              "  <svg xmlns=\"http://www.w3.org/2000/svg\" height=\"24px\"viewBox=\"0 0 24 24\"\n",
              "       width=\"24px\">\n",
              "    <path d=\"M0 0h24v24H0V0z\" fill=\"none\"/>\n",
              "    <path d=\"M18.56 5.44l.94 2.06.94-2.06 2.06-.94-2.06-.94-.94-2.06-.94 2.06-2.06.94zm-11 1L8.5 8.5l.94-2.06 2.06-.94-2.06-.94L8.5 2.5l-.94 2.06-2.06.94zm10 10l.94 2.06.94-2.06 2.06-.94-2.06-.94-.94-2.06-.94 2.06-2.06.94z\"/><path d=\"M17.41 7.96l-1.37-1.37c-.4-.4-.92-.59-1.43-.59-.52 0-1.04.2-1.43.59L10.3 9.45l-7.72 7.72c-.78.78-.78 2.05 0 2.83L4 21.41c.39.39.9.59 1.41.59.51 0 1.02-.2 1.41-.59l7.78-7.78 2.81-2.81c.8-.78.8-2.07 0-2.86zM5.41 20L4 18.59l7.72-7.72 1.47 1.35L5.41 20z\"/>\n",
              "  </svg>\n",
              "      </button>\n",
              "      \n",
              "  <style>\n",
              "    .colab-df-container {\n",
              "      display:flex;\n",
              "      flex-wrap:wrap;\n",
              "      gap: 12px;\n",
              "    }\n",
              "\n",
              "    .colab-df-convert {\n",
              "      background-color: #E8F0FE;\n",
              "      border: none;\n",
              "      border-radius: 50%;\n",
              "      cursor: pointer;\n",
              "      display: none;\n",
              "      fill: #1967D2;\n",
              "      height: 32px;\n",
              "      padding: 0 0 0 0;\n",
              "      width: 32px;\n",
              "    }\n",
              "\n",
              "    .colab-df-convert:hover {\n",
              "      background-color: #E2EBFA;\n",
              "      box-shadow: 0px 1px 2px rgba(60, 64, 67, 0.3), 0px 1px 3px 1px rgba(60, 64, 67, 0.15);\n",
              "      fill: #174EA6;\n",
              "    }\n",
              "\n",
              "    [theme=dark] .colab-df-convert {\n",
              "      background-color: #3B4455;\n",
              "      fill: #D2E3FC;\n",
              "    }\n",
              "\n",
              "    [theme=dark] .colab-df-convert:hover {\n",
              "      background-color: #434B5C;\n",
              "      box-shadow: 0px 1px 3px 1px rgba(0, 0, 0, 0.15);\n",
              "      filter: drop-shadow(0px 1px 2px rgba(0, 0, 0, 0.3));\n",
              "      fill: #FFFFFF;\n",
              "    }\n",
              "  </style>\n",
              "\n",
              "      <script>\n",
              "        const buttonEl =\n",
              "          document.querySelector('#df-b8b737b7-680a-4e68-8ac0-fd5c64ff1b6f button.colab-df-convert');\n",
              "        buttonEl.style.display =\n",
              "          google.colab.kernel.accessAllowed ? 'block' : 'none';\n",
              "\n",
              "        async function convertToInteractive(key) {\n",
              "          const element = document.querySelector('#df-b8b737b7-680a-4e68-8ac0-fd5c64ff1b6f');\n",
              "          const dataTable =\n",
              "            await google.colab.kernel.invokeFunction('convertToInteractive',\n",
              "                                                     [key], {});\n",
              "          if (!dataTable) return;\n",
              "\n",
              "          const docLinkHtml = 'Like what you see? Visit the ' +\n",
              "            '<a target=\"_blank\" href=https://colab.research.google.com/notebooks/data_table.ipynb>data table notebook</a>'\n",
              "            + ' to learn more about interactive tables.';\n",
              "          element.innerHTML = '';\n",
              "          dataTable['output_type'] = 'display_data';\n",
              "          await google.colab.output.renderOutput(dataTable, element);\n",
              "          const docLink = document.createElement('div');\n",
              "          docLink.innerHTML = docLinkHtml;\n",
              "          element.appendChild(docLink);\n",
              "        }\n",
              "      </script>\n",
              "    </div>\n",
              "  </div>\n",
              "  "
            ],
            "text/plain": [
              "     sepal_length  sepal_width  petal_length  petal_width    species\n",
              "34            4.9          3.1           1.5          0.1     setosa\n",
              "37            4.9          3.1           1.5          0.1     setosa\n",
              "142           5.8          2.7           5.1          1.9  virginica"
            ]
          },
          "metadata": {},
          "execution_count": 15
        }
      ]
    },
    {
      "cell_type": "markdown",
      "source": [
        "## Delete rows of duplicate data from the dataset"
      ],
      "metadata": {
        "id": "GtvqtXy3zMlt"
      }
    },
    {
      "cell_type": "code",
      "source": [
        "print(iris.shape)\n",
        "iris.drop_duplicates(inplace=True)\n",
        "print(iris.shape)"
      ],
      "metadata": {
        "colab": {
          "base_uri": "https://localhost:8080/"
        },
        "id": "Zx4FTt3ZzBjN",
        "outputId": "e14fa290-4ccc-4ef5-9c0d-810da3fab32b"
      },
      "execution_count": 16,
      "outputs": [
        {
          "output_type": "stream",
          "name": "stdout",
          "text": [
            "(150, 5)\n",
            "(147, 5)\n"
          ]
        }
      ]
    },
    {
      "cell_type": "markdown",
      "source": [
        "---\n",
        "# Remove Outliers"
      ],
      "metadata": {
        "id": "A7uQc77N0Oku"
      }
    },
    {
      "cell_type": "markdown",
      "source": [
        "## A - Standard deviation approch:\n",
        "### A-1 Generate Gaussian distribution"
      ],
      "metadata": {
        "id": "TOpH4MXt0z2k"
      }
    },
    {
      "cell_type": "code",
      "source": [
        "np.random.seed(42)\n",
        "data = 5 * np.random.normal(size=10000) + 50\n",
        "sns.displot(data, kind='kde')"
      ],
      "metadata": {
        "colab": {
          "base_uri": "https://localhost:8080/",
          "height": 387
        },
        "id": "H3HjMkoQzjMr",
        "outputId": "67b27eea-530f-4bae-868d-53783a4efe8a"
      },
      "execution_count": 17,
      "outputs": [
        {
          "output_type": "execute_result",
          "data": {
            "text/plain": [
              "<seaborn.axisgrid.FacetGrid at 0x7fccbf47d5d0>"
            ]
          },
          "metadata": {},
          "execution_count": 17
        },
        {
          "output_type": "display_data",
          "data": {
            "image/png": "[encoded data removed]",
            "text/plain": [
              "<Figure size 360x360 with 1 Axes>"
            ]
          },
          "metadata": {
            "needs_background": "light"
          }
        }
      ]
    },
    {
      "cell_type": "markdown",
      "source": [
        "### A-2 Calculate Summary statistics"
      ],
      "metadata": {
        "id": "-HHBSMFK2MWH"
      }
    },
    {
      "cell_type": "code",
      "source": [
        "mean_data, std_data = data.mean(), data.std()\n",
        "\n",
        "mean_data, std_data"
      ],
      "metadata": {
        "colab": {
          "base_uri": "https://localhost:8080/"
        },
        "id": "SZVYYU7b2Fj1",
        "outputId": "09c47223-61b7-40f8-b99f-151dec570ab5"
      },
      "execution_count": 18,
      "outputs": [
        {
          "output_type": "execute_result",
          "data": {
            "text/plain": [
              "(49.98932008315787, 5.017061030649938)"
            ]
          },
          "metadata": {},
          "execution_count": 18
        }
      ]
    },
    {
      "cell_type": "markdown",
      "source": [
        "### A-3 Define outliers"
      ],
      "metadata": {
        "id": "LGQjl3Uq3gK8"
      }
    },
    {
      "cell_type": "code",
      "source": [
        "cut_off = 3 * std_data\n",
        "lower, upper = mean_data - cut_off, mean_data + cut_off"
      ],
      "metadata": {
        "id": "TtVoeGz-2Z6s"
      },
      "execution_count": 19,
      "outputs": []
    },
    {
      "cell_type": "markdown",
      "source": [
        "### A-4 Identify outliers"
      ],
      "metadata": {
        "id": "pFI-YHRb39c_"
      }
    },
    {
      "cell_type": "code",
      "source": [
        "outliers = [x for x in data if x < lower or x > upper]\n",
        "print(f'Number of outlier: {len(outliers)}')"
      ],
      "metadata": {
        "colab": {
          "base_uri": "https://localhost:8080/"
        },
        "id": "E5JgrRDx38pz",
        "outputId": "555bf12c-4edf-4f40-9e46-342745fe898a"
      },
      "execution_count": 20,
      "outputs": [
        {
          "output_type": "stream",
          "name": "stdout",
          "text": [
            "Number of outlier: 27\n"
          ]
        }
      ]
    },
    {
      "cell_type": "code",
      "source": [
        "non_outliers = [x for x in data if x >= lower and x <= upper]\n",
        "print(f'Number of non-outlier: {len(non_outliers)}')"
      ],
      "metadata": {
        "colab": {
          "base_uri": "https://localhost:8080/"
        },
        "id": "H3vuOGKw4aaI",
        "outputId": "7ae7625e-0bd1-4972-ced6-6bb36e70b189"
      },
      "execution_count": 21,
      "outputs": [
        {
          "output_type": "stream",
          "name": "stdout",
          "text": [
            "Number of non-outlier: 9973\n"
          ]
        }
      ]
    },
    {
      "cell_type": "markdown",
      "source": [
        "## B- IQR Approch"
      ],
      "metadata": {
        "id": "Ajvxs7b45wGq"
      }
    },
    {
      "cell_type": "markdown",
      "source": [
        "### B-1 Interquartile range"
      ],
      "metadata": {
        "id": "H96_KGKL7KDQ"
      }
    },
    {
      "cell_type": "code",
      "source": [
        "q25, q75 = np.percentile(data, 25), np.percentile(data, 75)\n",
        "iqr = q75 - q25\n",
        "print(f'IQR range: [25th={q25:.3f}, 75th={q75:.3f}]  , IQR = {iqr:.3f}')"
      ],
      "metadata": {
        "colab": {
          "base_uri": "https://localhost:8080/"
        },
        "id": "HSMkI-3m6hwb",
        "outputId": "d24575e7-17de-41fa-a747-19516cbda0bb"
      },
      "execution_count": 24,
      "outputs": [
        {
          "output_type": "stream",
          "name": "stdout",
          "text": [
            "IQR range: [25th=46.637, 75th=53.355]  , IQR = 6.718\n"
          ]
        }
      ]
    },
    {
      "cell_type": "markdown",
      "source": [
        "### B-2 Calculate the outlier cutoff "
      ],
      "metadata": {
        "id": "KKIbi4jE8gwd"
      }
    },
    {
      "cell_type": "code",
      "source": [
        "cut_off = 1.5 * iqr\n",
        "lower, upper = q25 - cut_off, q75 + cut_off"
      ],
      "metadata": {
        "id": "VfFhHbuY8OTB"
      },
      "execution_count": 25,
      "outputs": []
    },
    {
      "cell_type": "markdown",
      "source": [
        "### B-3 Identify outliers\n"
      ],
      "metadata": {
        "id": "8zRh7pXl9fI8"
      }
    },
    {
      "cell_type": "code",
      "source": [
        "outliers = [x for x in data if x < lower or x > upper]\n",
        "print(f'Numbers of outliers: {len(outliers)}')"
      ],
      "metadata": {
        "colab": {
          "base_uri": "https://localhost:8080/"
        },
        "id": "JOkdaTyM9QWG",
        "outputId": "1431fdfb-dce2-430e-821b-28d1c47048e9"
      },
      "execution_count": 26,
      "outputs": [
        {
          "output_type": "stream",
          "name": "stdout",
          "text": [
            "Numbers of outliers: 83\n"
          ]
        }
      ]
    },
    {
      "cell_type": "markdown",
      "source": [
        "### B-4 Non-outliers"
      ],
      "metadata": {
        "id": "HAnQwNlO-A5z"
      }
    },
    {
      "cell_type": "code",
      "source": [
        "non_outliers = [x for x in data if x >= lower and x <= upper]\n",
        "print(f'Numbers of non-outliers: {len(non_outliers)}')"
      ],
      "metadata": {
        "colab": {
          "base_uri": "https://localhost:8080/"
        },
        "id": "K04r2W0I92rq",
        "outputId": "d699bec5-4473-4138-b1f5-8bb514071d3d"
      },
      "execution_count": 27,
      "outputs": [
        {
          "output_type": "stream",
          "name": "stdout",
          "text": [
            "Numbers of non-outliers: 9917\n"
          ]
        }
      ]
    },
    {
      "cell_type": "markdown",
      "source": [
        "## Summarizing"
      ],
      "metadata": {
        "id": "_rnOiyKy-lj-"
      }
    },
    {
      "cell_type": "code",
      "source": [
        "print(f'IQR range: [25th={q25:.3f}, 75th={q75:.3f}]  , IQR = {iqr:.3f}')\n",
        "print(f'Numbers of outliers: {len(outliers)}')\n",
        "print(f'Numbers of non-outliers: {len(non_outliers)}')"
      ],
      "metadata": {
        "colab": {
          "base_uri": "https://localhost:8080/"
        },
        "id": "RdLH8FY2-RvP",
        "outputId": "fd59515f-221b-4616-ba61-ecac5e24db6f"
      },
      "execution_count": 29,
      "outputs": [
        {
          "output_type": "stream",
          "name": "stdout",
          "text": [
            "IQR range: [25th=46.637, 75th=53.355]  , IQR = 6.718\n",
            "Numbers of outliers: 83\n",
            "Numbers of non-outliers: 9917\n"
          ]
        }
      ]
    },
    {
      "cell_type": "code",
      "source": [
        ""
      ],
      "metadata": {
        "id": "2k7hrC6S-onD"
      },
      "execution_count": null,
      "outputs": []
    }
  ]
}