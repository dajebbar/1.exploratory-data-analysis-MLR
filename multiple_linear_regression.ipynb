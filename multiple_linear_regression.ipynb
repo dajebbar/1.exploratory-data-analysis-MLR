{
 "cells": [
  {
   "cell_type": "code",
   "execution_count": 1,
   "metadata": {},
   "outputs": [],
   "source": [
    "import numpy as np\n",
    "import pandas as pd\n",
    "import matplotlib.pylab as plt\n",
    "\n",
    "from sklearn.model_selection import train_test_split\n",
    "from sklearn.preprocessing import StandardScaler\n",
    "from sklearn.linear_model import LinearRegression\n",
    "from sklearn.metrics import r2_score\n",
    "\n",
    "plt.style.use('fivethirtyeight')\n",
    "\n",
    "%matplotlib inline"
   ]
  },
  {
   "cell_type": "markdown",
   "metadata": {},
   "source": [
    "# Reading the data"
   ]
  },
  {
   "cell_type": "code",
   "execution_count": 2,
   "metadata": {},
   "outputs": [],
   "source": [
    "data = pd.read_csv('winequality-white.csv', sep = ';')\n",
    "X = data.iloc[:, :-1]\n",
    "y = data.iloc[:, -1]"
   ]
  },
  {
   "cell_type": "markdown",
   "metadata": {},
   "source": [
    "# Adding an extra Column"
   ]
  },
  {
   "cell_type": "code",
   "execution_count": 3,
   "metadata": {},
   "outputs": [],
   "source": [
    "X = np.append(arr = np.ones((X.shape[0], 1)), values = X, axis = 1)"
   ]
  },
  {
   "cell_type": "markdown",
   "metadata": {},
   "source": [
    "# Splitting the data"
   ]
  },
  {
   "cell_type": "code",
   "execution_count": 4,
   "metadata": {},
   "outputs": [],
   "source": [
    "X_train, X_test, y_train, y_test = train_test_split(X, y)"
   ]
  },
  {
   "cell_type": "markdown",
   "metadata": {},
   "source": [
    "# Scaling the data"
   ]
  },
  {
   "cell_type": "code",
   "execution_count": 5,
   "metadata": {},
   "outputs": [],
   "source": [
    "scaler = StandardScaler()\n",
    "X_train = scaler.fit_transform(X_train)\n",
    "X_test = scaler.transform(X_test)"
   ]
  },
  {
   "cell_type": "code",
   "execution_count": 6,
   "metadata": {},
   "outputs": [
    {
     "data": {
      "text/plain": [
       "array([[ 0.        ,  0.88234013, -0.56896233, ..., -1.31020031,\n",
       "        -1.67680162, -1.05372762],\n",
       "       [ 0.        ,  0.88234013,  1.99951078, ...,  0.34085562,\n",
       "        -0.35329534, -0.97274226],\n",
       "       [ 0.        , -1.59929275, -1.5568366 , ...,  0.40689786,\n",
       "        -0.35329534, -0.56781547],\n",
       "       ...,\n",
       "       [ 0.        , -0.06304383, -0.56896233, ..., -1.97062268,\n",
       "        -0.6179966 , -1.21569833],\n",
       "       [ 0.        , -0.77208179, -0.66774976, ...,  0.34085562,\n",
       "         0.70550968,  0.6469649 ],\n",
       "       [ 0.        , -0.6539088 , -0.66774976, ...,  0.27481338,\n",
       "        -0.6179966 , -0.3248594 ]])"
      ]
     },
     "execution_count": 6,
     "metadata": {},
     "output_type": "execute_result"
    }
   ],
   "source": [
    "X_train"
   ]
  },
  {
   "cell_type": "code",
   "execution_count": 7,
   "metadata": {},
   "outputs": [
    {
     "data": {
      "text/plain": [
       "array([[ 0.        , -0.41756281,  0.02376224, ...,  0.86919352,\n",
       "        -1.05916535, -0.24387404],\n",
       "       [ 0.        ,  0.29147515,  0.12254966, ...,  0.14272891,\n",
       "        -0.7944641 ,  0.16105275],\n",
       "       [ 0.        , -0.6539088 , -0.66774976, ...,  1.13336246,\n",
       "         0.08787342, -0.08190332],\n",
       "       ...,\n",
       "       [ 0.        ,  1.00051312,  0.02376224, ...,  1.33148917,\n",
       "         1.14667844,  0.16105275],\n",
       "       [ 0.        ,  0.29147515, -0.4701749 , ..., -1.90458044,\n",
       "        -0.26506159, -1.21569833],\n",
       "       [ 0.        ,  0.64599414, -1.06289947, ...,  2.19003826,\n",
       "         1.41137969, -0.08190332]])"
      ]
     },
     "execution_count": 7,
     "metadata": {},
     "output_type": "execute_result"
    }
   ],
   "source": [
    "X_test"
   ]
  },
  {
   "cell_type": "code",
   "execution_count": null,
   "metadata": {},
   "outputs": [],
   "source": []
  }
 ],
 "metadata": {
  "kernelspec": {
   "display_name": "Python 3",
   "language": "python",
   "name": "python3"
  },
  "language_info": {
   "codemirror_mode": {
    "name": "ipython",
    "version": 3
   },
   "file_extension": ".py",
   "mimetype": "text/x-python",
   "name": "python",
   "nbconvert_exporter": "python",
   "pygments_lexer": "ipython3",
   "version": "3.7.6"
  }
 },
 "nbformat": 4,
 "nbformat_minor": 4
}
