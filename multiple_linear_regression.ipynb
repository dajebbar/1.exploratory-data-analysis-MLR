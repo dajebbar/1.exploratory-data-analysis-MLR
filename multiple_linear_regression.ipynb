{
 "cells": [
  {
   "cell_type": "code",
   "execution_count": 1,
   "metadata": {},
   "outputs": [],
   "source": [
    "import numpy as np\n",
    "import pandas as pd\n",
    "import matplotlib.pylab as plt\n",
    "\n",
    "from sklearn.model_selection import train_test_split\n",
    "from sklearn.preprocessing import StandardScaler\n",
    "from sklearn.linear_model import LinearRegression\n",
    "from sklearn.metrics import r2_score\n",
    "\n",
    "plt.style.use('fivethirtyeight')\n",
    "\n",
    "%matplotlib inline"
   ]
  },
  {
   "cell_type": "markdown",
   "metadata": {},
   "source": [
    "# Reading the data"
   ]
  },
  {
   "cell_type": "code",
   "execution_count": 2,
   "metadata": {},
   "outputs": [],
   "source": [
    "data = pd.read_csv('winequality-white.csv', sep = ';')\n",
    "X = data.iloc[:, :-1]\n",
    "y = data.iloc[:, -1]"
   ]
  },
  {
   "cell_type": "markdown",
   "metadata": {},
   "source": [
    "# Implementing the Solution"
   ]
  },
  {
   "cell_type": "markdown",
   "metadata": {},
   "source": [
    "## Adding an extra Column"
   ]
  },
  {
   "cell_type": "code",
   "execution_count": 3,
   "metadata": {},
   "outputs": [],
   "source": [
    "X = np.append(arr = np.ones((X.shape[0], 1)), values = X, axis = 1)"
   ]
  },
  {
   "cell_type": "markdown",
   "metadata": {},
   "source": [
    "## Splitting the data"
   ]
  },
  {
   "cell_type": "code",
   "execution_count": 4,
   "metadata": {},
   "outputs": [],
   "source": [
    "X_train, X_test, y_train, y_test = train_test_split(X, y)"
   ]
  },
  {
   "cell_type": "markdown",
   "metadata": {},
   "source": [
    "## Scaling the data"
   ]
  },
  {
   "cell_type": "code",
   "execution_count": 5,
   "metadata": {},
   "outputs": [],
   "source": [
    "scaler = StandardScaler()\n",
    "X_train = scaler.fit_transform(X_train)\n",
    "X_test = scaler.transform(X_test)"
   ]
  },
  {
   "cell_type": "code",
   "execution_count": 6,
   "metadata": {},
   "outputs": [
    {
     "data": {
      "text/plain": [
       "array([[ 0.        , -0.30163255, -0.8763441 , ...,  2.19191607,\n",
       "         2.44784257, -0.08630365],\n",
       "       [ 0.        ,  0.05768519, -0.47688247, ..., -0.5257906 ,\n",
       "        -1.92220009,  0.72839366],\n",
       "       [ 0.        , -0.42140512, -0.57674787, ..., -0.92350377,\n",
       "         0.08801954, -0.81953122],\n",
       "       ...,\n",
       "       [ 0.        , -2.33776636,  0.67156971, ...,  0.33592127,\n",
       "        -0.785989  , -0.33071284],\n",
       "       [ 0.        ,  0.29723034, -0.77647869, ...,  0.07077916,\n",
       "        -1.13559241,  1.21721204],\n",
       "       [ 0.        , -0.78072285,  0.22217538, ..., -1.453788  ,\n",
       "        -0.61118729,  1.3801515 ]])"
      ]
     },
     "execution_count": 6,
     "metadata": {},
     "output_type": "execute_result"
    }
   ],
   "source": [
    "X_train"
   ]
  },
  {
   "cell_type": "code",
   "execution_count": 7,
   "metadata": {},
   "outputs": [
    {
     "data": {
      "text/plain": [
       "array([[ 0.00000000e+00,  1.37518354e+00, -1.77286247e-01, ...,\n",
       "        -6.58361657e-01,  2.01083831e+00,  8.91333117e-01],\n",
       "       [ 0.00000000e+00,  4.17002918e-01, -1.27580572e+00, ...,\n",
       "         2.19191607e+00, -1.74183024e-01, -4.12182566e-01],\n",
       "       [ 0.00000000e+00,  1.97404642e+00, -7.76478689e-01, ...,\n",
       "        -1.25493141e+00, -1.22299326e+00, -4.83391502e-03],\n",
       "       ...,\n",
       "       [ 0.00000000e+00, -7.80722855e-01, -6.76613282e-01, ...,\n",
       "         2.03350214e-01,  6.18682871e-04, -4.93652296e-01],\n",
       "       [ 0.00000000e+00, -1.14004059e+00,  1.22309974e-01, ...,\n",
       "         4.68492328e-01, -6.98588143e-01, -7.38061487e-01],\n",
       "       [ 0.00000000e+00,  1.77457764e-01,  1.22309974e-01, ...,\n",
       "         1.37064685e-01,  8.80195361e-02,  7.28393657e-01]])"
      ]
     },
     "execution_count": 7,
     "metadata": {},
     "output_type": "execute_result"
    }
   ],
   "source": [
    "X_test"
   ]
  },
  {
   "cell_type": "markdown",
   "metadata": {},
   "source": [
    "## Linear regression"
   ]
  },
  {
   "cell_type": "code",
   "execution_count": 8,
   "metadata": {},
   "outputs": [],
   "source": [
    "regressor = LinearRegression()\n",
    "regressor.fit(X_train, y_train)\n",
    "predictions = regressor.predict(X_test)"
   ]
  },
  {
   "cell_type": "code",
   "execution_count": 9,
   "metadata": {},
   "outputs": [
    {
     "data": {
      "text/plain": [
       "array([6.21618955, 5.70705751, 5.78851024, ..., 5.80910474, 5.61464719,\n",
       "       6.07871637])"
      ]
     },
     "execution_count": 9,
     "metadata": {},
     "output_type": "execute_result"
    }
   ],
   "source": [
    "predictions"
   ]
  },
  {
   "cell_type": "code",
   "execution_count": 10,
   "metadata": {},
   "outputs": [
    {
     "data": {
      "text/plain": [
       "1060    7\n",
       "2011    5\n",
       "3179    4\n",
       "2060    5\n",
       "2664    7\n",
       "       ..\n",
       "3610    5\n",
       "1437    7\n",
       "4426    6\n",
       "933     5\n",
       "3626    5\n",
       "Name: quality, Length: 1225, dtype: int64"
      ]
     },
     "execution_count": 10,
     "metadata": {},
     "output_type": "execute_result"
    }
   ],
   "source": [
    "y_test"
   ]
  },
  {
   "cell_type": "code",
   "execution_count": null,
   "metadata": {},
   "outputs": [],
   "source": []
  }
 ],
 "metadata": {
  "kernelspec": {
   "display_name": "Python 3",
   "language": "python",
   "name": "python3"
  },
  "language_info": {
   "codemirror_mode": {
    "name": "ipython",
    "version": 3
   },
   "file_extension": ".py",
   "mimetype": "text/x-python",
   "name": "python",
   "nbconvert_exporter": "python",
   "pygments_lexer": "ipython3",
   "version": "3.7.6"
  }
 },
 "nbformat": 4,
 "nbformat_minor": 4
}
