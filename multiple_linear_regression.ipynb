{
 "cells": [
  {
   "cell_type": "code",
   "execution_count": 1,
   "metadata": {},
   "outputs": [],
   "source": [
    "import numpy as np\n",
    "import pandas as pd\n",
    "import matplotlib.pylab as plt\n",
    "\n",
    "import statsmodels.api as sm\n",
    "\n",
    "from sklearn.model_selection import train_test_split\n",
    "from sklearn.preprocessing import StandardScaler\n",
    "from sklearn.linear_model import LinearRegression\n",
    "from sklearn.metrics import r2_score\n",
    "\n",
    "plt.style.use('fivethirtyeight')\n",
    "\n",
    "%matplotlib inline"
   ]
  },
  {
   "cell_type": "markdown",
   "metadata": {},
   "source": [
    "# Reading the data"
   ]
  },
  {
   "cell_type": "code",
   "execution_count": 2,
   "metadata": {},
   "outputs": [],
   "source": [
    "data = pd.read_csv('winequality-white.csv', sep = ';')\n",
    "X = data.iloc[:, :-1]\n",
    "y = data.iloc[:, -1]"
   ]
  },
  {
   "cell_type": "markdown",
   "metadata": {},
   "source": [
    "# Implementing the Solution"
   ]
  },
  {
   "cell_type": "markdown",
   "metadata": {},
   "source": [
    "## Adding an extra Column"
   ]
  },
  {
   "cell_type": "code",
   "execution_count": 3,
   "metadata": {},
   "outputs": [],
   "source": [
    "X = np.append(arr = np.ones((X.shape[0], 1)), values = X, axis = 1)"
   ]
  },
  {
   "cell_type": "markdown",
   "metadata": {},
   "source": [
    "## Splitting the data"
   ]
  },
  {
   "cell_type": "code",
   "execution_count": 4,
   "metadata": {},
   "outputs": [],
   "source": [
    "X_train, X_test, y_train, y_test = train_test_split(X, y)"
   ]
  },
  {
   "cell_type": "markdown",
   "metadata": {},
   "source": [
    "## Scaling the data"
   ]
  },
  {
   "cell_type": "code",
   "execution_count": 5,
   "metadata": {},
   "outputs": [],
   "source": [
    "scaler = StandardScaler()\n",
    "X_train = scaler.fit_transform(X_train)\n",
    "X_test = scaler.transform(X_test)"
   ]
  },
  {
   "cell_type": "code",
   "execution_count": 6,
   "metadata": {},
   "outputs": [
    {
     "data": {
      "text/plain": [
       "array([[ 0.00000000e+00, -1.00559005e+00,  7.05693804e-01, ...,\n",
       "         3.30592878e-01, -1.22931277e+00,  1.29246750e+00],\n",
       "       [ 0.00000000e+00, -4.14558693e-01, -3.75130561e-01, ...,\n",
       "        -5.77045334e-04, -8.80043503e-01, -5.75105734e-01],\n",
       "       [ 0.00000000e+00, -4.14558693e-01, -1.78617041e-01, ...,\n",
       "         3.96826863e-01,  2.26337994e+00,  6.42876807e-01],\n",
       "       ...,\n",
       "       [ 0.00000000e+00,  2.94678933e-01, -6.69900843e-01, ...,\n",
       "        -1.45772471e+00,  1.67764310e-01, -1.06229875e+00],\n",
       "       [ 0.00000000e+00, -4.14558693e-01, -8.66414364e-01, ...,\n",
       "         1.12540069e+00,  4.29716263e-01,  2.36882627e-01],\n",
       "       [ 0.00000000e+00,  1.35853537e+00, -5.71644082e-01, ...,\n",
       "        -5.30448923e-01,  3.42398946e-01, -8.18702242e-01]])"
      ]
     },
     "execution_count": 6,
     "metadata": {},
     "output_type": "execute_result"
    }
   ],
   "source": [
    "X_train"
   ]
  },
  {
   "cell_type": "code",
   "execution_count": 7,
   "metadata": {},
   "outputs": [
    {
     "data": {
      "text/plain": [
       "array([[ 0.        ,  0.76750402, -1.35769817, ...,  0.6617628 ,\n",
       "         2.69996653, -0.73750341],\n",
       "       [ 0.        , -0.76917751, -0.7681576 , ..., -0.06681103,\n",
       "         0.51703358, -0.89990108],\n",
       "       [ 0.        , -0.88738378,  0.41092352, ...,  0.6617628 ,\n",
       "        -0.61809155,  1.536064  ],\n",
       "       ...,\n",
       "       [ 0.        , -1.24200259, -1.55421169, ...,  0.86046476,\n",
       "        -1.40394741,  0.72407564],\n",
       "       [ 0.        , -0.76917751, -0.08036028, ...,  1.45657062,\n",
       "         0.08044699, -0.41270806],\n",
       "       [ 0.        , -0.76917751, -0.08036028, ..., -0.199279  ,\n",
       "        -1.05467814,  0.23688263]])"
      ]
     },
     "execution_count": 7,
     "metadata": {},
     "output_type": "execute_result"
    }
   ],
   "source": [
    "X_test"
   ]
  },
  {
   "cell_type": "markdown",
   "metadata": {},
   "source": [
    "## Linear regression"
   ]
  },
  {
   "cell_type": "code",
   "execution_count": 8,
   "metadata": {},
   "outputs": [],
   "source": [
    "regressor = LinearRegression()\n",
    "regressor.fit(X_train, y_train)\n",
    "predictions = regressor.predict(X_test)"
   ]
  },
  {
   "cell_type": "code",
   "execution_count": 9,
   "metadata": {},
   "outputs": [
    {
     "data": {
      "text/plain": [
       "array([5.80561034, 5.5143506 , 6.39142672, ..., 6.3493164 , 5.7112724 ,\n",
       "       6.1595596 ])"
      ]
     },
     "execution_count": 9,
     "metadata": {},
     "output_type": "execute_result"
    }
   ],
   "source": [
    "predictions"
   ]
  },
  {
   "cell_type": "code",
   "execution_count": 10,
   "metadata": {},
   "outputs": [
    {
     "data": {
      "text/plain": [
       "1160    6\n",
       "4569    6\n",
       "160     7\n",
       "4881    6\n",
       "980     6\n",
       "       ..\n",
       "1928    6\n",
       "1304    5\n",
       "4532    6\n",
       "2539    5\n",
       "3889    6\n",
       "Name: quality, Length: 1225, dtype: int64"
      ]
     },
     "execution_count": 10,
     "metadata": {},
     "output_type": "execute_result"
    }
   ],
   "source": [
    "y_test"
   ]
  },
  {
   "cell_type": "markdown",
   "metadata": {},
   "source": [
    "# Evaluating and improving the model"
   ]
  },
  {
   "cell_type": "code",
   "execution_count": 11,
   "metadata": {},
   "outputs": [
    {
     "data": {
      "text/plain": [
       "0.30027460703142106"
      ]
     },
     "execution_count": 11,
     "metadata": {},
     "output_type": "execute_result"
    }
   ],
   "source": [
    "r2_score(y_test, predictions)"
   ]
  },
  {
   "cell_type": "markdown",
   "metadata": {},
   "source": [
    "## Backwards elimination"
   ]
  },
  {
   "cell_type": "code",
   "execution_count": 12,
   "metadata": {},
   "outputs": [
    {
     "data": {
      "text/html": [
       "<table class=\"simpletable\">\n",
       "<caption>OLS Regression Results</caption>\n",
       "<tr>\n",
       "  <th>Dep. Variable:</th>         <td>quality</td>     <th>  R-squared:         </th> <td>   0.282</td> \n",
       "</tr>\n",
       "<tr>\n",
       "  <th>Model:</th>                   <td>OLS</td>       <th>  Adj. R-squared:    </th> <td>   0.281</td> \n",
       "</tr>\n",
       "<tr>\n",
       "  <th>Method:</th>             <td>Least Squares</td>  <th>  F-statistic:       </th> <td>   239.7</td> \n",
       "</tr>\n",
       "<tr>\n",
       "  <th>Date:</th>             <td>Sat, 23 May 2020</td> <th>  Prob (F-statistic):</th>  <td>  0.00</td>  \n",
       "</tr>\n",
       "<tr>\n",
       "  <th>Time:</th>                 <td>13:00:45</td>     <th>  Log-Likelihood:    </th> <td> -5544.1</td> \n",
       "</tr>\n",
       "<tr>\n",
       "  <th>No. Observations:</th>      <td>  4898</td>      <th>  AIC:               </th> <td>1.111e+04</td>\n",
       "</tr>\n",
       "<tr>\n",
       "  <th>Df Residuals:</th>          <td>  4889</td>      <th>  BIC:               </th> <td>1.116e+04</td>\n",
       "</tr>\n",
       "<tr>\n",
       "  <th>Df Model:</th>              <td>     8</td>      <th>                     </th>     <td> </td>    \n",
       "</tr>\n",
       "<tr>\n",
       "  <th>Covariance Type:</th>      <td>nonrobust</td>    <th>                     </th>     <td> </td>    \n",
       "</tr>\n",
       "</table>\n",
       "<table class=\"simpletable\">\n",
       "<tr>\n",
       "    <td></td>       <th>coef</th>     <th>std err</th>      <th>t</th>      <th>P>|t|</th>  <th>[0.025</th>    <th>0.975]</th>  \n",
       "</tr>\n",
       "<tr>\n",
       "  <th>const</th> <td>  154.1062</td> <td>   18.100</td> <td>    8.514</td> <td> 0.000</td> <td>  118.622</td> <td>  189.591</td>\n",
       "</tr>\n",
       "<tr>\n",
       "  <th>x1</th>    <td>    0.0681</td> <td>    0.020</td> <td>    3.333</td> <td> 0.001</td> <td>    0.028</td> <td>    0.108</td>\n",
       "</tr>\n",
       "<tr>\n",
       "  <th>x2</th>    <td>   -1.8881</td> <td>    0.110</td> <td>  -17.242</td> <td> 0.000</td> <td>   -2.103</td> <td>   -1.673</td>\n",
       "</tr>\n",
       "<tr>\n",
       "  <th>x3</th>    <td>    0.0828</td> <td>    0.007</td> <td>   11.370</td> <td> 0.000</td> <td>    0.069</td> <td>    0.097</td>\n",
       "</tr>\n",
       "<tr>\n",
       "  <th>x4</th>    <td>    0.0033</td> <td>    0.001</td> <td>    4.950</td> <td> 0.000</td> <td>    0.002</td> <td>    0.005</td>\n",
       "</tr>\n",
       "<tr>\n",
       "  <th>x5</th>    <td> -154.2913</td> <td>   18.344</td> <td>   -8.411</td> <td> 0.000</td> <td> -190.254</td> <td> -118.329</td>\n",
       "</tr>\n",
       "<tr>\n",
       "  <th>x6</th>    <td>    0.6942</td> <td>    0.103</td> <td>    6.717</td> <td> 0.000</td> <td>    0.492</td> <td>    0.897</td>\n",
       "</tr>\n",
       "<tr>\n",
       "  <th>x7</th>    <td>    0.6285</td> <td>    0.100</td> <td>    6.287</td> <td> 0.000</td> <td>    0.433</td> <td>    0.824</td>\n",
       "</tr>\n",
       "<tr>\n",
       "  <th>x8</th>    <td>    0.1932</td> <td>    0.024</td> <td>    8.021</td> <td> 0.000</td> <td>    0.146</td> <td>    0.240</td>\n",
       "</tr>\n",
       "</table>\n",
       "<table class=\"simpletable\">\n",
       "<tr>\n",
       "  <th>Omnibus:</th>       <td>114.194</td> <th>  Durbin-Watson:     </th> <td>   1.621</td>\n",
       "</tr>\n",
       "<tr>\n",
       "  <th>Prob(Omnibus):</th> <td> 0.000</td>  <th>  Jarque-Bera (JB):  </th> <td> 251.255</td>\n",
       "</tr>\n",
       "<tr>\n",
       "  <th>Skew:</th>          <td> 0.075</td>  <th>  Prob(JB):          </th> <td>2.76e-55</td>\n",
       "</tr>\n",
       "<tr>\n",
       "  <th>Kurtosis:</th>      <td> 4.099</td>  <th>  Cond. No.          </th> <td>9.95e+04</td>\n",
       "</tr>\n",
       "</table><br/><br/>Warnings:<br/>[1] Standard Errors assume that the covariance matrix of the errors is correctly specified.<br/>[2] The condition number is large, 9.95e+04. This might indicate that there are<br/>strong multicollinearity or other numerical problems."
      ],
      "text/plain": [
       "<class 'statsmodels.iolib.summary.Summary'>\n",
       "\"\"\"\n",
       "                            OLS Regression Results                            \n",
       "==============================================================================\n",
       "Dep. Variable:                quality   R-squared:                       0.282\n",
       "Model:                            OLS   Adj. R-squared:                  0.281\n",
       "Method:                 Least Squares   F-statistic:                     239.7\n",
       "Date:                Sat, 23 May 2020   Prob (F-statistic):               0.00\n",
       "Time:                        13:00:45   Log-Likelihood:                -5544.1\n",
       "No. Observations:                4898   AIC:                         1.111e+04\n",
       "Df Residuals:                    4889   BIC:                         1.116e+04\n",
       "Df Model:                           8                                         \n",
       "Covariance Type:            nonrobust                                         \n",
       "==============================================================================\n",
       "                 coef    std err          t      P>|t|      [0.025      0.975]\n",
       "------------------------------------------------------------------------------\n",
       "const        154.1062     18.100      8.514      0.000     118.622     189.591\n",
       "x1             0.0681      0.020      3.333      0.001       0.028       0.108\n",
       "x2            -1.8881      0.110    -17.242      0.000      -2.103      -1.673\n",
       "x3             0.0828      0.007     11.370      0.000       0.069       0.097\n",
       "x4             0.0033      0.001      4.950      0.000       0.002       0.005\n",
       "x5          -154.2913     18.344     -8.411      0.000    -190.254    -118.329\n",
       "x6             0.6942      0.103      6.717      0.000       0.492       0.897\n",
       "x7             0.6285      0.100      6.287      0.000       0.433       0.824\n",
       "x8             0.1932      0.024      8.021      0.000       0.146       0.240\n",
       "==============================================================================\n",
       "Omnibus:                      114.194   Durbin-Watson:                   1.621\n",
       "Prob(Omnibus):                  0.000   Jarque-Bera (JB):              251.255\n",
       "Skew:                           0.075   Prob(JB):                     2.76e-55\n",
       "Kurtosis:                       4.099   Cond. No.                     9.95e+04\n",
       "==============================================================================\n",
       "\n",
       "Warnings:\n",
       "[1] Standard Errors assume that the covariance matrix of the errors is correctly specified.\n",
       "[2] The condition number is large, 9.95e+04. This might indicate that there are\n",
       "strong multicollinearity or other numerical problems.\n",
       "\"\"\""
      ]
     },
     "execution_count": 12,
     "metadata": {},
     "output_type": "execute_result"
    }
   ],
   "source": [
    "X_opt = X[:, [0, 1, 2, 4, 6, 8, 9, 10, 11]]\n",
    "X_opt = X_opt.astype(np.float64)\n",
    "regressor_OLS = sm.OLS(endog = y, exog = X_opt).fit()\n",
    "regressor_OLS.summary()"
   ]
  },
  {
   "cell_type": "code",
   "execution_count": null,
   "metadata": {},
   "outputs": [],
   "source": []
  }
 ],
 "metadata": {
  "kernelspec": {
   "display_name": "Python 3",
   "language": "python",
   "name": "python3"
  },
  "language_info": {
   "codemirror_mode": {
    "name": "ipython",
    "version": 3
   },
   "file_extension": ".py",
   "mimetype": "text/x-python",
   "name": "python",
   "nbconvert_exporter": "python",
   "pygments_lexer": "ipython3",
   "version": "3.7.6"
  }
 },
 "nbformat": 4,
 "nbformat_minor": 4
}
